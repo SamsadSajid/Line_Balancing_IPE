{
 "cells": [
  {
   "cell_type": "code",
   "execution_count": 11,
   "metadata": {},
   "outputs": [],
   "source": [
    "import pandas as pd\n",
    "import numpy as np\n",
    "import math"
   ]
  },
  {
   "cell_type": "code",
   "execution_count": 12,
   "metadata": {},
   "outputs": [],
   "source": [
    "tasks = ['A', 'B', 'C', 'D', 'E', 'F', 'G', 'H', 'I', 'J', 'K']\n",
    "tasks_time = [45, 11, 9, 50, 15, 12, 12, 12, 12, 8, 9]\n",
    "tasks_parent = [None, 'A', 'B', None, 'D', 'C', 'C', 'E', 'E', ['F', 'G', 'H', 'I'], 'J']\n",
    "followers = [6, 5, 4, 5, 4, 2, 2, 2, 2, 1, 0]"
   ]
  },
  {
   "cell_type": "code",
   "execution_count": 13,
   "metadata": {},
   "outputs": [],
   "source": [
    "dataset = {'Tasks': tasks, 'Tasks Time (s)': tasks_time, 'Tasks that must precede': tasks_parent}"
   ]
  },
  {
   "cell_type": "code",
   "execution_count": 14,
   "metadata": {},
   "outputs": [],
   "source": [
    "df = pd.DataFrame(data = dataset)"
   ]
  },
  {
   "cell_type": "code",
   "execution_count": 15,
   "metadata": {},
   "outputs": [
    {
     "data": {
      "text/html": [
       "<div>\n",
       "<style scoped>\n",
       "    .dataframe tbody tr th:only-of-type {\n",
       "        vertical-align: middle;\n",
       "    }\n",
       "\n",
       "    .dataframe tbody tr th {\n",
       "        vertical-align: top;\n",
       "    }\n",
       "\n",
       "    .dataframe thead th {\n",
       "        text-align: right;\n",
       "    }\n",
       "</style>\n",
       "<table border=\"1\" class=\"dataframe\">\n",
       "  <thead>\n",
       "    <tr style=\"text-align: right;\">\n",
       "      <th></th>\n",
       "      <th>Tasks</th>\n",
       "      <th>Tasks Time (s)</th>\n",
       "      <th>Tasks that must precede</th>\n",
       "    </tr>\n",
       "  </thead>\n",
       "  <tbody>\n",
       "    <tr>\n",
       "      <th>0</th>\n",
       "      <td>A</td>\n",
       "      <td>45</td>\n",
       "      <td>None</td>\n",
       "    </tr>\n",
       "    <tr>\n",
       "      <th>1</th>\n",
       "      <td>B</td>\n",
       "      <td>11</td>\n",
       "      <td>A</td>\n",
       "    </tr>\n",
       "    <tr>\n",
       "      <th>2</th>\n",
       "      <td>C</td>\n",
       "      <td>9</td>\n",
       "      <td>B</td>\n",
       "    </tr>\n",
       "    <tr>\n",
       "      <th>3</th>\n",
       "      <td>D</td>\n",
       "      <td>50</td>\n",
       "      <td>None</td>\n",
       "    </tr>\n",
       "    <tr>\n",
       "      <th>4</th>\n",
       "      <td>E</td>\n",
       "      <td>15</td>\n",
       "      <td>D</td>\n",
       "    </tr>\n",
       "    <tr>\n",
       "      <th>5</th>\n",
       "      <td>F</td>\n",
       "      <td>12</td>\n",
       "      <td>C</td>\n",
       "    </tr>\n",
       "    <tr>\n",
       "      <th>6</th>\n",
       "      <td>G</td>\n",
       "      <td>12</td>\n",
       "      <td>C</td>\n",
       "    </tr>\n",
       "    <tr>\n",
       "      <th>7</th>\n",
       "      <td>H</td>\n",
       "      <td>12</td>\n",
       "      <td>E</td>\n",
       "    </tr>\n",
       "    <tr>\n",
       "      <th>8</th>\n",
       "      <td>I</td>\n",
       "      <td>12</td>\n",
       "      <td>E</td>\n",
       "    </tr>\n",
       "    <tr>\n",
       "      <th>9</th>\n",
       "      <td>J</td>\n",
       "      <td>8</td>\n",
       "      <td>[F, G, H, I]</td>\n",
       "    </tr>\n",
       "    <tr>\n",
       "      <th>10</th>\n",
       "      <td>K</td>\n",
       "      <td>9</td>\n",
       "      <td>J</td>\n",
       "    </tr>\n",
       "  </tbody>\n",
       "</table>\n",
       "</div>"
      ],
      "text/plain": [
       "   Tasks  Tasks Time (s) Tasks that must precede\n",
       "0      A              45                    None\n",
       "1      B              11                       A\n",
       "2      C               9                       B\n",
       "3      D              50                    None\n",
       "4      E              15                       D\n",
       "5      F              12                       C\n",
       "6      G              12                       C\n",
       "7      H              12                       E\n",
       "8      I              12                       E\n",
       "9      J               8            [F, G, H, I]\n",
       "10     K               9                       J"
      ]
     },
     "execution_count": 15,
     "metadata": {},
     "output_type": "execute_result"
    }
   ],
   "source": [
    "df"
   ]
  },
  {
   "cell_type": "code",
   "execution_count": 16,
   "metadata": {},
   "outputs": [],
   "source": [
    "__idle__time__original = 0\n",
    "\n",
    "for i in range(0, len(tasks)):\n",
    "\t__idle__time__original += (50 - df.iloc[i]['Tasks Time (s)'])"
   ]
  },
  {
   "cell_type": "code",
   "execution_count": 17,
   "metadata": {},
   "outputs": [],
   "source": [
    "import networkx as nx\n",
    "G = nx.DiGraph()"
   ]
  },
  {
   "cell_type": "code",
   "execution_count": 18,
   "metadata": {},
   "outputs": [],
   "source": [
    "total_tasks_time = 0\n",
    "\n",
    "for _, row in df.iterrows():\n",
    "\t# print(row[])\n",
    "\tif row['Tasks that must precede'] is not None:\n",
    "\t\tif len(row['Tasks that must precede']) > 1:\n",
    "\t\t\tfor i in row['Tasks that must precede']:\n",
    "\t\t\t\tG.add_edges_from([(i, row['Tasks'])])\n",
    "\t\telse:\n",
    "\t\t\tG.add_edges_from([(row['Tasks that must precede'], row['Tasks'])])"
   ]
  },
  {
   "cell_type": "code",
   "execution_count": 19,
   "metadata": {},
   "outputs": [],
   "source": [
    "import matplotlib.pyplot as plt"
   ]
  },
  {
   "cell_type": "code",
   "execution_count": 20,
   "metadata": {},
   "outputs": [
    {
     "data": {
      "image/png": "[encoded data removed]",
      "text/plain": [
       "<matplotlib.figure.Figure at 0x7f3ddc029f60>"
      ]
     },
     "metadata": {},
     "output_type": "display_data"
    }
   ],
   "source": [
    "plt.subplot(211)\n",
    "pos = nx.spring_layout(G, scale = 15)\n",
    "nx.draw(G, pos, font_size = 8, with_labels=True, font_weight='bold')\n",
    "plt.savefig('graph.png')\n",
    "plt.show()"
   ]
  },
  {
   "cell_type": "code",
   "execution_count": 21,
   "metadata": {},
   "outputs": [],
   "source": [
    "df['Followers'] = followers"
   ]
  },
  {
   "cell_type": "code",
   "execution_count": 22,
   "metadata": {},
   "outputs": [
    {
     "data": {
      "text/html": [
       "<div>\n",
       "<style scoped>\n",
       "    .dataframe tbody tr th:only-of-type {\n",
       "        vertical-align: middle;\n",
       "    }\n",
       "\n",
       "    .dataframe tbody tr th {\n",
       "        vertical-align: top;\n",
       "    }\n",
       "\n",
       "    .dataframe thead th {\n",
       "        text-align: right;\n",
       "    }\n",
       "</style>\n",
       "<table border=\"1\" class=\"dataframe\">\n",
       "  <thead>\n",
       "    <tr style=\"text-align: right;\">\n",
       "      <th></th>\n",
       "      <th>Tasks</th>\n",
       "      <th>Tasks Time (s)</th>\n",
       "      <th>Tasks that must precede</th>\n",
       "      <th>Followers</th>\n",
       "    </tr>\n",
       "  </thead>\n",
       "  <tbody>\n",
       "    <tr>\n",
       "      <th>0</th>\n",
       "      <td>A</td>\n",
       "      <td>45</td>\n",
       "      <td>None</td>\n",
       "      <td>6</td>\n",
       "    </tr>\n",
       "    <tr>\n",
       "      <th>1</th>\n",
       "      <td>B</td>\n",
       "      <td>11</td>\n",
       "      <td>A</td>\n",
       "      <td>5</td>\n",
       "    </tr>\n",
       "    <tr>\n",
       "      <th>2</th>\n",
       "      <td>C</td>\n",
       "      <td>9</td>\n",
       "      <td>B</td>\n",
       "      <td>4</td>\n",
       "    </tr>\n",
       "    <tr>\n",
       "      <th>3</th>\n",
       "      <td>D</td>\n",
       "      <td>50</td>\n",
       "      <td>None</td>\n",
       "      <td>5</td>\n",
       "    </tr>\n",
       "    <tr>\n",
       "      <th>4</th>\n",
       "      <td>E</td>\n",
       "      <td>15</td>\n",
       "      <td>D</td>\n",
       "      <td>4</td>\n",
       "    </tr>\n",
       "    <tr>\n",
       "      <th>5</th>\n",
       "      <td>F</td>\n",
       "      <td>12</td>\n",
       "      <td>C</td>\n",
       "      <td>2</td>\n",
       "    </tr>\n",
       "    <tr>\n",
       "      <th>6</th>\n",
       "      <td>G</td>\n",
       "      <td>12</td>\n",
       "      <td>C</td>\n",
       "      <td>2</td>\n",
       "    </tr>\n",
       "    <tr>\n",
       "      <th>7</th>\n",
       "      <td>H</td>\n",
       "      <td>12</td>\n",
       "      <td>E</td>\n",
       "      <td>2</td>\n",
       "    </tr>\n",
       "    <tr>\n",
       "      <th>8</th>\n",
       "      <td>I</td>\n",
       "      <td>12</td>\n",
       "      <td>E</td>\n",
       "      <td>2</td>\n",
       "    </tr>\n",
       "    <tr>\n",
       "      <th>9</th>\n",
       "      <td>J</td>\n",
       "      <td>8</td>\n",
       "      <td>[F, G, H, I]</td>\n",
       "      <td>1</td>\n",
       "    </tr>\n",
       "    <tr>\n",
       "      <th>10</th>\n",
       "      <td>K</td>\n",
       "      <td>9</td>\n",
       "      <td>J</td>\n",
       "      <td>0</td>\n",
       "    </tr>\n",
       "  </tbody>\n",
       "</table>\n",
       "</div>"
      ],
      "text/plain": [
       "   Tasks  Tasks Time (s) Tasks that must precede  Followers\n",
       "0      A              45                    None          6\n",
       "1      B              11                       A          5\n",
       "2      C               9                       B          4\n",
       "3      D              50                    None          5\n",
       "4      E              15                       D          4\n",
       "5      F              12                       C          2\n",
       "6      G              12                       C          2\n",
       "7      H              12                       E          2\n",
       "8      I              12                       E          2\n",
       "9      J               8            [F, G, H, I]          1\n",
       "10     K               9                       J          0"
      ]
     },
     "execution_count": 22,
     "metadata": {},
     "output_type": "execute_result"
    }
   ],
   "source": [
    "df"
   ]
  },
  {
   "cell_type": "code",
   "execution_count": 23,
   "metadata": {},
   "outputs": [
    {
     "name": "stdout",
     "output_type": "stream",
     "text": [
      "195\n"
     ]
    }
   ],
   "source": [
    "for _, rows in df.iterrows():\n",
    "\t# print(rows['Followers'])\n",
    "\ttotal_tasks_time += rows['Tasks Time (s)']\n",
    "print(total_tasks_time)"
   ]
  },
  {
   "cell_type": "code",
   "execution_count": 24,
   "metadata": {},
   "outputs": [
    {
     "name": "stdout",
     "output_type": "stream",
     "text": [
      "50.4 4\n"
     ]
    }
   ],
   "source": [
    "Production_time_per_day = 420 * 60\n",
    "Wagon_required = 500\n",
    "\n",
    "CT = Production_time_per_day / Wagon_required\n",
    "minimum_workstation = math.ceil(total_tasks_time / CT)\n",
    "\n",
    "print(CT, minimum_workstation)"
   ]
  },
  {
   "cell_type": "code",
   "execution_count": 25,
   "metadata": {},
   "outputs": [
    {
     "name": "stdout",
     "output_type": "stream",
     "text": [
      "   Tasks  Tasks Time (s) Tasks that must precede  Followers\n",
      "0      A              45                    None          6\n",
      "3      D              50                    None          5\n",
      "1      B              11                       A          5\n",
      "4      E              15                       D          4\n",
      "2      C               9                       B          4\n",
      "5      F              12                       C          2\n",
      "6      G              12                       C          2\n",
      "7      H              12                       E          2\n",
      "8      I              12                       E          2\n",
      "9      J               8            [F, G, H, I]          1\n",
      "10     K               9                       J          0\n"
     ]
    }
   ],
   "source": [
    "df_copy = df.copy()\n",
    "df_copy.sort_values(by = ['Followers', 'Tasks Time (s)'], inplace = True, ascending = False)\n",
    "\n",
    "print(df_copy)"
   ]
  },
  {
   "cell_type": "code",
   "execution_count": 26,
   "metadata": {},
   "outputs": [
    {
     "name": "stdout",
     "output_type": "stream",
     "text": [
      "[('A', 45), ('D', 50), ('B', 11), ('E', 15), ('C', 9), ('F', 12), ('G', 12), ('H', 12), ('I', 12), ('J', 8), ('K', 9)]\n"
     ]
    }
   ],
   "source": [
    "l = []\n",
    "\n",
    "cnt = 0\n",
    "\n",
    "for _, rows in df_copy.iterrows():\n",
    "\tl.append(tuple((rows['Tasks'], rows['Tasks Time (s)'])))\n",
    "\n",
    "print(l)\n",
    "\n",
    "a = []\n",
    "yy = 0"
   ]
  },
  {
   "cell_type": "code",
   "execution_count": 27,
   "metadata": {},
   "outputs": [],
   "source": [
    "for i in range(0, len(tasks)):\n",
    "\t# a[i] = l[i]\n",
    "\tif i is not yy:\n",
    "\t\tcontinue\n",
    "\t# a.append(tuple((i, l[i])))\n",
    "\tidle_time = CT - l[i][1]\n",
    "\ta.append(tuple((i, l[i], idle_time)))\n",
    "\t# print(idle_time)\n",
    "\n",
    "\tfor j in range(i+1, len(tasks)):\n",
    "\t\tif l[j][1] <= idle_time:\n",
    "\t\t\t# print(\"aaaa \", idle_time)\n",
    "\t\t\t# a.append(tuple((i, l[j])))\n",
    "\t\t\tidle_time -= l[j][1]\n",
    "\t\t\ta.append(tuple((i, l[j], idle_time)))\n",
    "\t\telse:\n",
    "\t\t\tyy = j\n",
    "\t\t\ti = j\n",
    "\t\t\tbreak"
   ]
  },
  {
   "cell_type": "code",
   "execution_count": 17,
   "metadata": {},
   "outputs": [
    {
     "name": "stdout",
     "output_type": "stream",
     "text": [
      "[(0, ('A', 45), 5.399999999999999), (1, ('D', 50), 0.3999999999999986), (2, ('B', 11), 39.4), (2, ('E', 15), 24.4), (2, ('C', 9), 15.399999999999999), (2, ('F', 12), 3.3999999999999986), (6, ('G', 12), 38.4), (6, ('H', 12), 26.4), (6, ('I', 12), 14.399999999999999), (6, ('J', 8), 6.399999999999999), (10, ('K', 9), 41.4)]\n"
     ]
    }
   ],
   "source": [
    "print(a)"
   ]
  },
  {
   "cell_type": "code",
   "execution_count": 28,
   "metadata": {},
   "outputs": [],
   "source": [
    "column__label = ['Order', 'Tasks Process_Time', 'Idle Time (s)']\n",
    "df = pd.DataFrame(a, columns = column__label)"
   ]
  },
  {
   "cell_type": "code",
   "execution_count": 29,
   "metadata": {},
   "outputs": [
    {
     "data": {
      "text/html": [
       "<div>\n",
       "<style scoped>\n",
       "    .dataframe tbody tr th:only-of-type {\n",
       "        vertical-align: middle;\n",
       "    }\n",
       "\n",
       "    .dataframe tbody tr th {\n",
       "        vertical-align: top;\n",
       "    }\n",
       "\n",
       "    .dataframe thead th {\n",
       "        text-align: right;\n",
       "    }\n",
       "</style>\n",
       "<table border=\"1\" class=\"dataframe\">\n",
       "  <thead>\n",
       "    <tr style=\"text-align: right;\">\n",
       "      <th></th>\n",
       "      <th>Order</th>\n",
       "      <th>Tasks Process_Time</th>\n",
       "      <th>Idle Time (s)</th>\n",
       "    </tr>\n",
       "  </thead>\n",
       "  <tbody>\n",
       "    <tr>\n",
       "      <th>0</th>\n",
       "      <td>0</td>\n",
       "      <td>(A, 45)</td>\n",
       "      <td>5.4</td>\n",
       "    </tr>\n",
       "    <tr>\n",
       "      <th>1</th>\n",
       "      <td>1</td>\n",
       "      <td>(D, 50)</td>\n",
       "      <td>0.4</td>\n",
       "    </tr>\n",
       "    <tr>\n",
       "      <th>2</th>\n",
       "      <td>2</td>\n",
       "      <td>(B, 11)</td>\n",
       "      <td>39.4</td>\n",
       "    </tr>\n",
       "    <tr>\n",
       "      <th>3</th>\n",
       "      <td>2</td>\n",
       "      <td>(E, 15)</td>\n",
       "      <td>24.4</td>\n",
       "    </tr>\n",
       "    <tr>\n",
       "      <th>4</th>\n",
       "      <td>2</td>\n",
       "      <td>(C, 9)</td>\n",
       "      <td>15.4</td>\n",
       "    </tr>\n",
       "    <tr>\n",
       "      <th>5</th>\n",
       "      <td>2</td>\n",
       "      <td>(F, 12)</td>\n",
       "      <td>3.4</td>\n",
       "    </tr>\n",
       "    <tr>\n",
       "      <th>6</th>\n",
       "      <td>6</td>\n",
       "      <td>(G, 12)</td>\n",
       "      <td>38.4</td>\n",
       "    </tr>\n",
       "    <tr>\n",
       "      <th>7</th>\n",
       "      <td>6</td>\n",
       "      <td>(H, 12)</td>\n",
       "      <td>26.4</td>\n",
       "    </tr>\n",
       "    <tr>\n",
       "      <th>8</th>\n",
       "      <td>6</td>\n",
       "      <td>(I, 12)</td>\n",
       "      <td>14.4</td>\n",
       "    </tr>\n",
       "    <tr>\n",
       "      <th>9</th>\n",
       "      <td>6</td>\n",
       "      <td>(J, 8)</td>\n",
       "      <td>6.4</td>\n",
       "    </tr>\n",
       "    <tr>\n",
       "      <th>10</th>\n",
       "      <td>10</td>\n",
       "      <td>(K, 9)</td>\n",
       "      <td>41.4</td>\n",
       "    </tr>\n",
       "  </tbody>\n",
       "</table>\n",
       "</div>"
      ],
      "text/plain": [
       "    Order Tasks Process_Time  Idle Time (s)\n",
       "0       0            (A, 45)            5.4\n",
       "1       1            (D, 50)            0.4\n",
       "2       2            (B, 11)           39.4\n",
       "3       2            (E, 15)           24.4\n",
       "4       2             (C, 9)           15.4\n",
       "5       2            (F, 12)            3.4\n",
       "6       6            (G, 12)           38.4\n",
       "7       6            (H, 12)           26.4\n",
       "8       6            (I, 12)           14.4\n",
       "9       6             (J, 8)            6.4\n",
       "10     10             (K, 9)           41.4"
      ]
     },
     "execution_count": 29,
     "metadata": {},
     "output_type": "execute_result"
    }
   ],
   "source": [
    "df"
   ]
  },
  {
   "cell_type": "code",
   "execution_count": 32,
   "metadata": {},
   "outputs": [],
   "source": [
    "__idle__time = 0"
   ]
  },
  {
   "cell_type": "code",
   "execution_count": 33,
   "metadata": {},
   "outputs": [],
   "source": [
    "__idle__time = df.iloc[0]['Idle Time (s)'] + df.iloc[1]['Idle Time (s)'] + df.iloc[5]['Idle Time (s)'] + df.iloc[9]['Idle Time (s)'] + df.iloc[10]['Idle Time (s)']"
   ]
  },
  {
   "cell_type": "code",
   "execution_count": 35,
   "metadata": {},
   "outputs": [
    {
     "name": "stdout",
     "output_type": "stream",
     "text": [
      "Before Line Balancing idle time is  355\n",
      "After Line Balancing idle time is  57.0\n"
     ]
    }
   ],
   "source": [
    "print(\"Before Line Balancing idle time is \", __idle__time__original)\n",
    "print(\"After Line Balancing idle time is \", __idle__time)"
   ]
  }
 ],
 "metadata": {
  "kernelspec": {
   "display_name": "Python 3",
   "language": "python",
   "name": "python3"
  },
  "language_info": {
   "codemirror_mode": {
    "name": "ipython",
    "version": 3
   },
   "file_extension": ".py",
   "mimetype": "text/x-python",
   "name": "python",
   "nbconvert_exporter": "python",
   "pygments_lexer": "ipython3",
   "version": "3.5.2"
  }
 },
 "nbformat": 4,
 "nbformat_minor": 2
}
